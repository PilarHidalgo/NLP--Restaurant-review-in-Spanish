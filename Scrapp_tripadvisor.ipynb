{
 "cells": [
  {
   "cell_type": "code",
   "execution_count": 1,
   "metadata": {},
   "outputs": [],
   "source": [
    "#Librerias\n",
    "import pandas as pd\n",
    "import numpy as np\n",
    "import re\n",
    "import math\n",
    "import requests\n",
    "import time\n",
    "from tqdm import tqdm, trange\n",
    "from time import sleep\n",
    "from bs4 import BeautifulSoup\n",
    "import urllib.request \n",
    "import spacy\n",
    "nlp = spacy.load('es')"
   ]
  },
  {
   "cell_type": "code",
   "execution_count": 6,
   "metadata": {},
   "outputs": [],
   "source": [
    "pages = list(range(1,44))#Number of pages 258"
   ]
  },
  {
   "cell_type": "code",
   "execution_count": 255,
   "metadata": {},
   "outputs": [],
   "source": [
    "urls=[]\n",
    "for i in pages:\n",
    "    #url='https://www.tripadvisor.com/Restaurant_Review-g294316-d782626-Reviews-or{}0-Tanta-Lima_Lima_Region.html'.format(i) \n",
    "    url='https://www.tripadvisor.com.pe/Restaurant_Review-g294316-d9981582-Reviews-or{}0-Tanta_Larcomar-Lima_Lima_Region.html'.format(i)\n",
    "    urls.append(url)"
   ]
  },
  {
   "cell_type": "code",
   "execution_count": 257,
   "metadata": {},
   "outputs": [],
   "source": [
    "#EXTRAER CONTENIDO DE LAS PAGINAS DE BUSQUEDA POR LETRAS\n",
    "paginas=[]\n",
    "for i in range(0,len(urls)):\n",
    "    content = requests.get(urls[i]).content  \n",
    "    soup = BeautifulSoup(content,'html.parser')\n",
    "    job_elems= soup.find_all('p', {'class': 'partial_entry'})\n",
    "    paginas.append(job_elems)"
   ]
  },
  {
   "cell_type": "code",
   "execution_count": 258,
   "metadata": {},
   "outputs": [],
   "source": [
    "#EXTRAER CONTENIDO DE LAS PAGINAS DE BUSQUEDA POR LETRAS\n",
    "puntos=[]\n",
    "for i in range(0,len(urls)):\n",
    "    content = requests.get(urls[i]).content  \n",
    "    soup = BeautifulSoup(content,'html.parser')\n",
    "    job_elems= soup.find_all('span',{'class': 'ui_bubble_rating'})\n",
    "    puntos.append(job_elems[5:15])"
   ]
  },
  {
   "cell_type": "code",
   "execution_count": 259,
   "metadata": {},
   "outputs": [],
   "source": [
    "#type(job_elems[5])\n",
    "puntos_=[]\n",
    "for x in puntos:\n",
    "    w=str(x)\n",
    "    puntos_.append(int(w[38:40]))    "
   ]
  },
  {
   "cell_type": "code",
   "execution_count": 260,
   "metadata": {},
   "outputs": [],
   "source": [
    "puntos_=[]\n",
    "for i in range(0,len(puntos)):\n",
    "    for j in range(0,len(puntos[i])):\n",
    "        a=str(puntos[i][j])\n",
    "        puntos_.append(int(a[37:39]))"
   ]
  },
  {
   "cell_type": "code",
   "execution_count": 261,
   "metadata": {},
   "outputs": [],
   "source": [
    "paginas_=[]\n",
    "for i in range(0,len(paginas)):\n",
    "    for j in range(0,len(paginas[i])):\n",
    "        a=str(paginas[i][j])\n",
    "        paginas_.append(a)"
   ]
  },
  {
   "cell_type": "code",
   "execution_count": 252,
   "metadata": {},
   "outputs": [
    {
     "data": {
      "text/plain": [
       "20"
      ]
     },
     "execution_count": 252,
     "metadata": {},
     "output_type": "execute_result"
    }
   ],
   "source": [
    "len(puntos_)"
   ]
  },
  {
   "cell_type": "code",
   "execution_count": 262,
   "metadata": {},
   "outputs": [
    {
     "data": {
      "text/html": [
       "<div>\n",
       "<style scoped>\n",
       "    .dataframe tbody tr th:only-of-type {\n",
       "        vertical-align: middle;\n",
       "    }\n",
       "\n",
       "    .dataframe tbody tr th {\n",
       "        vertical-align: top;\n",
       "    }\n",
       "\n",
       "    .dataframe thead th {\n",
       "        text-align: right;\n",
       "    }\n",
       "</style>\n",
       "<table border=\"1\" class=\"dataframe\">\n",
       "  <thead>\n",
       "    <tr style=\"text-align: right;\">\n",
       "      <th></th>\n",
       "      <th>opinion</th>\n",
       "      <th>rates</th>\n",
       "    </tr>\n",
       "  </thead>\n",
       "  <tbody>\n",
       "    <tr>\n",
       "      <td>0</td>\n",
       "      <td>&lt;p class=\"partial_entry\"&gt;Nos gustó todo lo que...</td>\n",
       "      <td>50</td>\n",
       "    </tr>\n",
       "    <tr>\n",
       "      <td>1</td>\n",
       "      <td>&lt;p class=\"partial_entry\"&gt;.... aunque debo reco...</td>\n",
       "      <td>40</td>\n",
       "    </tr>\n",
       "    <tr>\n",
       "      <td>2</td>\n",
       "      <td>&lt;p class=\"partial_entry\"&gt;La última noche del v...</td>\n",
       "      <td>30</td>\n",
       "    </tr>\n",
       "    <tr>\n",
       "      <td>3</td>\n",
       "      <td>&lt;p class=\"partial_entry\"&gt;Recontra ficho , anda...</td>\n",
       "      <td>50</td>\n",
       "    </tr>\n",
       "    <tr>\n",
       "      <td>4</td>\n",
       "      <td>&lt;p class=\"partial_entry\"&gt;Muy buena la comida.\\...</td>\n",
       "      <td>40</td>\n",
       "    </tr>\n",
       "    <tr>\n",
       "      <td>...</td>\n",
       "      <td>...</td>\n",
       "      <td>...</td>\n",
       "    </tr>\n",
       "    <tr>\n",
       "      <td>425</td>\n",
       "      <td>&lt;p class=\"partial_entry\"&gt;ricos sus lomos ricos...</td>\n",
       "      <td>50</td>\n",
       "    </tr>\n",
       "    <tr>\n",
       "      <td>426</td>\n",
       "      <td>&lt;p class=\"partial_entry\"&gt;Es otro de los restau...</td>\n",
       "      <td>50</td>\n",
       "    </tr>\n",
       "    <tr>\n",
       "      <td>427</td>\n",
       "      <td>&lt;p class=\"partial_entry\"&gt;si quieres disfrutar ...</td>\n",
       "      <td>50</td>\n",
       "    </tr>\n",
       "    <tr>\n",
       "      <td>428</td>\n",
       "      <td>&lt;p class=\"partial_entry\"&gt;Del gran chef Gaston ...</td>\n",
       "      <td>50</td>\n",
       "    </tr>\n",
       "    <tr>\n",
       "      <td>429</td>\n",
       "      <td>&lt;p class=\"partial_entry\"&gt;Si bien el local está...</td>\n",
       "      <td>30</td>\n",
       "    </tr>\n",
       "  </tbody>\n",
       "</table>\n",
       "<p>430 rows × 2 columns</p>\n",
       "</div>"
      ],
      "text/plain": [
       "                                               opinion  rates\n",
       "0    <p class=\"partial_entry\">Nos gustó todo lo que...     50\n",
       "1    <p class=\"partial_entry\">.... aunque debo reco...     40\n",
       "2    <p class=\"partial_entry\">La última noche del v...     30\n",
       "3    <p class=\"partial_entry\">Recontra ficho , anda...     50\n",
       "4    <p class=\"partial_entry\">Muy buena la comida.\\...     40\n",
       "..                                                 ...    ...\n",
       "425  <p class=\"partial_entry\">ricos sus lomos ricos...     50\n",
       "426  <p class=\"partial_entry\">Es otro de los restau...     50\n",
       "427  <p class=\"partial_entry\">si quieres disfrutar ...     50\n",
       "428  <p class=\"partial_entry\">Del gran chef Gaston ...     50\n",
       "429  <p class=\"partial_entry\">Si bien el local está...     30\n",
       "\n",
       "[430 rows x 2 columns]"
      ]
     },
     "execution_count": 262,
     "metadata": {},
     "output_type": "execute_result"
    }
   ],
   "source": [
    "df=pd.DataFrame()\n",
    "df = pd.DataFrame(paginas_, columns = ['opinion']) \n",
    "df['rates']=puntos_\n",
    "df"
   ]
  },
  {
   "cell_type": "code",
   "execution_count": 263,
   "metadata": {},
   "outputs": [],
   "source": [
    "df.to_csv('TANTA_REVIEWS.csv')"
   ]
  },
  {
   "cell_type": "code",
   "execution_count": null,
   "metadata": {},
   "outputs": [],
   "source": []
  }
 ],
 "metadata": {
  "kernelspec": {
   "display_name": "Python 3",
   "language": "python",
   "name": "python3"
  },
  "language_info": {
   "codemirror_mode": {
    "name": "ipython",
    "version": 3
   },
   "file_extension": ".py",
   "mimetype": "text/x-python",
   "name": "python",
   "nbconvert_exporter": "python",
   "pygments_lexer": "ipython3",
   "version": "3.7.4"
  }
 },
 "nbformat": 4,
 "nbformat_minor": 2
}
